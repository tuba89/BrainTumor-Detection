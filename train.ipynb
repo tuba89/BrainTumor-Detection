{
 "cells": [
  {
   "cell_type": "code",
   "execution_count": null,
   "id": "a875cfd3",
   "metadata": {},
   "outputs": [],
   "source": [
    "# Test if i am using my GPU\n",
    "import tensorflow as tf\n",
    "print(\"Num GPUs Available: \", len(tf.config.list_physical_devices('GPU')))"
   ]
  },
  {
   "cell_type": "markdown",
   "id": "3fe34c0c",
   "metadata": {},
   "source": [
    "## Import dependecies"
   ]
  },
  {
   "cell_type": "code",
   "execution_count": 38,
   "id": "f57b8eb4",
   "metadata": {},
   "outputs": [],
   "source": [
    "# Import packages\n",
    "from keras.layers import Flatten, Activation, Dropout\n",
    "from keras.layers import Dense, Conv2D, MaxPooling2D  \n",
    "from sklearn.model_selection import train_test_split\n",
    "from tensorflow.keras.utils import normalize, to_categorical \n",
    "from sklearn.metrics import confusion_matrix\n",
    "from keras.models import Sequential\n",
    "import matplotlib.pyplot as plt\n",
    "from tensorflow import keras\n",
    "import tensorflow as tf\n",
    "from PIL import Image\n",
    "import seaborn as sns\n",
    "import numpy as np\n",
    "import cv2\n",
    "import os"
   ]
  },
  {
   "cell_type": "code",
   "execution_count": 33,
   "id": "9e0a5c8d",
   "metadata": {},
   "outputs": [],
   "source": []
  },
  {
   "cell_type": "markdown",
   "id": "a41c00f6",
   "metadata": {},
   "source": [
    "## Load the dataset"
   ]
  },
  {
   "cell_type": "code",
   "execution_count": 2,
   "id": "406ca25f",
   "metadata": {},
   "outputs": [],
   "source": [
    "img_path = 'data/'\n",
    "no_tumor = os.listdir(img_path+ 'no/')\n",
    "# no_tumor\n",
    "tumor = os.listdir(img_path+ 'yes/')\n",
    "# tumor"
   ]
  },
  {
   "cell_type": "code",
   "execution_count": 3,
   "id": "df0747d8",
   "metadata": {},
   "outputs": [],
   "source": [
    "# Two Empty list of dataset & label, to create \n",
    "# independent and dependent variables\n",
    "# to label no brain tumor as (0) & brain tumor as (1)\n",
    "dataset = []\n",
    "label = []"
   ]
  },
  {
   "cell_type": "code",
   "execution_count": 4,
   "id": "ad702c54",
   "metadata": {},
   "outputs": [],
   "source": [
    "# What is the extension of our images\n",
    "# pick one image\n",
    "p = 'no1005.jpg'\n",
    "# p.split('.')[1]"
   ]
  },
  {
   "cell_type": "markdown",
   "id": "20a7c9a9",
   "metadata": {},
   "source": [
    "## Preprocessing of images"
   ]
  },
  {
   "cell_type": "code",
   "execution_count": 5,
   "id": "c37b305c",
   "metadata": {},
   "outputs": [],
   "source": [
    "for i, img_name in enumerate(no_tumor):\n",
    "    # check if our image has jpg extension\n",
    "    if(img_name.split('.')[1] == 'jpg'):\n",
    "        # read our no tumor image\n",
    "        image = cv2.imread(img_path + 'no/' + img_name)\n",
    "        \n",
    "        # convert it to rgb using PIL package\n",
    "        # opencv read the images is bgr format\n",
    "        # thus, our image is converted to array\n",
    "        image = Image.fromarray(image, \"RGB\")\n",
    "        \n",
    "        # Resize the image to 64 by 64\n",
    "        image = image.resize((64, 64))\n",
    "        \n",
    "        # add our image as array in the dataset lst\n",
    "        dataset.append(np.array(image))\n",
    "        # label it as 0 = no brain tumor\n",
    "        label.append(0)"
   ]
  },
  {
   "cell_type": "code",
   "execution_count": 6,
   "id": "ce9ec359",
   "metadata": {},
   "outputs": [],
   "source": [
    "for i, img_name in enumerate(tumor):\n",
    "    # check if our image has jpg extension\n",
    "    if(img_name.split('.')[1] == 'jpg'):\n",
    "        # read our no tumor image\n",
    "        image = cv2.imread(img_path + 'yes/' + img_name)\n",
    "        \n",
    "        # convert it to rgb using PIL package\n",
    "        # opencv read the images is bgr format\n",
    "        # thus, our image is converted to array\n",
    "        image = Image.fromarray(image, \"RGB\")\n",
    "        \n",
    "        # Resize the image to 64 by 64\n",
    "        image = image.resize((64, 64))\n",
    "        \n",
    "        # add our image as array in the dataset lst\n",
    "        dataset.append(np.array(image))\n",
    "        # label it as 1= brain tumor\n",
    "        label.append(1)"
   ]
  },
  {
   "cell_type": "code",
   "execution_count": 7,
   "id": "bce4f7a4",
   "metadata": {},
   "outputs": [
    {
     "name": "stdout",
     "output_type": "stream",
     "text": [
      "3000\n",
      "3000\n"
     ]
    },
    {
     "data": {
      "text/plain": [
       "list"
      ]
     },
     "execution_count": 7,
     "metadata": {},
     "output_type": "execute_result"
    }
   ],
   "source": [
    "print(len(dataset))\n",
    "print(len(label))\n",
    "type(dataset)"
   ]
  },
  {
   "cell_type": "code",
   "execution_count": 8,
   "id": "5ac9e8a1",
   "metadata": {},
   "outputs": [],
   "source": [
    "# convert our images values appended in lists to numpy array \n",
    "dataset = np.array(dataset)\n",
    "label = np.array(label)"
   ]
  },
  {
   "cell_type": "markdown",
   "id": "b98b0c50",
   "metadata": {},
   "source": [
    "## Splitting the Dataset to Train and Test sets"
   ]
  },
  {
   "cell_type": "code",
   "execution_count": 9,
   "id": "759d736f",
   "metadata": {},
   "outputs": [
    {
     "name": "stdout",
     "output_type": "stream",
     "text": [
      "(2400, 64, 64, 3)\n",
      "(600, 64, 64, 3)\n",
      "(2400,)\n",
      "(600,)\n"
     ]
    }
   ],
   "source": [
    "# (20% data) of testing & (80% data) of training\n",
    "x_train, x_test, y_train, y_test = train_test_split(dataset, label, \n",
    "                                                    test_size= 0.2, \n",
    "                                                    random_state=0)\n",
    "print(x_train.shape)\n",
    "print(x_test.shape)\n",
    "print(y_train.shape)\n",
    "print(y_test.shape)"
   ]
  },
  {
   "cell_type": "markdown",
   "id": "d3f0055e",
   "metadata": {},
   "source": [
    "##### For example in training set images (x train)\n",
    "#### We have: \n",
    "#### 2400 samples of images,\n",
    "##### with size (height x width) of 64x64 \n",
    "##### and rgb channel (3) colored images\n",
    "##### and each one has a label, 0 or 1 (y train)"
   ]
  },
  {
   "cell_type": "markdown",
   "id": "f644b414",
   "metadata": {},
   "source": [
    "### Normalization of values of pixels array to small values between 0 an 1"
   ]
  },
  {
   "cell_type": "code",
   "execution_count": 10,
   "id": "823869ed",
   "metadata": {},
   "outputs": [],
   "source": [
    "# Reshape = (n, image_width, image_height, n_channel)\n",
    "# Normalization of the values of our arrays\n",
    "x_train = normalize(x_train, axis=1)\n",
    "x_test = normalize(x_test, axis=1)\n",
    "\n",
    "\n",
    "# convert our label to categorical data for categorical classification\n",
    "y_train = to_categorical(y_train, num_classes=2)\n",
    "y_test = to_categorical(y_test, num_classes=2)"
   ]
  },
  {
   "cell_type": "code",
   "execution_count": 23,
   "id": "2663e959",
   "metadata": {},
   "outputs": [],
   "source": []
  },
  {
   "cell_type": "markdown",
   "id": "3e9aa9e1",
   "metadata": {},
   "source": [
    "## Build the Model"
   ]
  },
  {
   "cell_type": "code",
   "execution_count": 11,
   "id": "60e0003f",
   "metadata": {},
   "outputs": [],
   "source": [
    "# Define some parameters\n",
    "INPUT_SIZE = 64"
   ]
  },
  {
   "cell_type": "code",
   "execution_count": 24,
   "id": "c91ef35c",
   "metadata": {},
   "outputs": [],
   "source": [
    "# Select the sequentiel Model\n",
    "model = Sequential()\n",
    "\n",
    "# Layer1: add convolution layer, relu activation & maxpooling\n",
    "model.add(Conv2D(filters= 32, \n",
    "                 kernel_size= (3,3),\n",
    "                 input_shape= (INPUT_SIZE, INPUT_SIZE, 3)))\n",
    "model.add(Activation(\"relu\"))\n",
    "model.add(MaxPooling2D(pool_size= (2,2)))\n",
    "\n",
    "# Layer2: add convolution layer, relu activation & maxpooling\n",
    "model.add(Conv2D(filters=32, \n",
    "                 kernel_size=(3,3),\n",
    "                 kernel_initializer= 'he_uniform'))\n",
    "model.add(Activation(\"relu\"))\n",
    "model.add(MaxPooling2D(pool_size= (2,2)))\n",
    "\n",
    "# Layer3: add convolution layer, relu activation & maxpooling\n",
    "model.add(Conv2D(filters=32, \n",
    "                 kernel_size=(3,3),\n",
    "                 kernel_initializer= 'he_uniform'))\n",
    "model.add(Activation(\"relu\"))\n",
    "model.add(MaxPooling2D(pool_size= (2,2)))\n",
    "\n",
    "# Flatten: make all images in one column vetcor\n",
    "model.add(Flatten())\n",
    "\n",
    "# add 2 dense layers\n",
    "model.add(Dense(64))\n",
    "model.add(Activation(\"relu\"))\n",
    "# off 50% of neurones\n",
    "model.add(Dropout(0.5)) \n",
    "\n",
    "# Output (categorical classification)\n",
    "model.add(Dense(2))\n",
    "model.add(Activation(\"softmax\"))"
   ]
  },
  {
   "cell_type": "markdown",
   "id": "111afdbb",
   "metadata": {},
   "source": [
    "#### Compile the Model"
   ]
  },
  {
   "cell_type": "code",
   "execution_count": 25,
   "id": "c0ba3004",
   "metadata": {},
   "outputs": [],
   "source": [
    "model.compile(loss = 'categorical_crossentropy',\n",
    "              optimizer = 'adam',\n",
    "              metrics = ['accuracy'])"
   ]
  },
  {
   "cell_type": "markdown",
   "id": "4fc18920",
   "metadata": {},
   "source": [
    "#### Fit the Model"
   ]
  },
  {
   "cell_type": "code",
   "execution_count": 26,
   "id": "9a16c933",
   "metadata": {},
   "outputs": [
    {
     "name": "stdout",
     "output_type": "stream",
     "text": [
      "Epoch 1/10\n",
      "150/150 [==============================] - 5s 26ms/step - loss: 0.5725 - accuracy: 0.7004 - val_loss: 0.5265 - val_accuracy: 0.7267\n",
      "Epoch 2/10\n",
      "150/150 [==============================] - 4s 24ms/step - loss: 0.4423 - accuracy: 0.8087 - val_loss: 0.3988 - val_accuracy: 0.8167\n",
      "Epoch 3/10\n",
      "150/150 [==============================] - 4s 26ms/step - loss: 0.3413 - accuracy: 0.8650 - val_loss: 0.3085 - val_accuracy: 0.8450\n",
      "Epoch 4/10\n",
      "150/150 [==============================] - 4s 25ms/step - loss: 0.2599 - accuracy: 0.8992 - val_loss: 0.2252 - val_accuracy: 0.9233\n",
      "Epoch 5/10\n",
      "150/150 [==============================] - 4s 26ms/step - loss: 0.1878 - accuracy: 0.9325 - val_loss: 0.1786 - val_accuracy: 0.9433\n",
      "Epoch 6/10\n",
      "150/150 [==============================] - 4s 25ms/step - loss: 0.1436 - accuracy: 0.9558 - val_loss: 0.1793 - val_accuracy: 0.9517\n",
      "Epoch 7/10\n",
      "150/150 [==============================] - 4s 28ms/step - loss: 0.1008 - accuracy: 0.9708 - val_loss: 0.1374 - val_accuracy: 0.9583\n",
      "Epoch 8/10\n",
      "150/150 [==============================] - 3s 19ms/step - loss: 0.0846 - accuracy: 0.9742 - val_loss: 0.1154 - val_accuracy: 0.9633\n",
      "Epoch 9/10\n",
      "150/150 [==============================] - 4s 26ms/step - loss: 0.0533 - accuracy: 0.9846 - val_loss: 0.1231 - val_accuracy: 0.9650\n",
      "Epoch 10/10\n",
      "150/150 [==============================] - 5s 30ms/step - loss: 0.0448 - accuracy: 0.9871 - val_loss: 0.0984 - val_accuracy: 0.9683\n"
     ]
    }
   ],
   "source": [
    "adm_hist = model.fit(x_train, y_train,\n",
    "                   batch_size= 16,\n",
    "                   verbose= 1,\n",
    "                   epochs= 10,\n",
    "                   validation_data= (x_test, y_test),\n",
    "                   shuffle= False)"
   ]
  },
  {
   "cell_type": "markdown",
   "id": "81ff1ac4",
   "metadata": {},
   "source": [
    "#### Save the Model"
   ]
  },
  {
   "cell_type": "code",
   "execution_count": 27,
   "id": "b5023dc4",
   "metadata": {},
   "outputs": [],
   "source": [
    "model.save('BrainTumor_Adam_10.h5')"
   ]
  },
  {
   "cell_type": "markdown",
   "id": "45ae652d",
   "metadata": {},
   "source": [
    "#### Evaluate the Model"
   ]
  },
  {
   "cell_type": "code",
   "execution_count": 30,
   "id": "ed7f4025",
   "metadata": {},
   "outputs": [
    {
     "name": "stdout",
     "output_type": "stream",
     "text": [
      "-------------------------\n",
      "Test loss = 0.10\n",
      "Test accuracy = 96.83 %\n",
      "-------------------------\n",
      "Train loss = 0.01\n",
      "Train accuracy = 99.50 %\n",
      "-------------------------\n"
     ]
    }
   ],
   "source": [
    "# Calculate the evaluation of the model of testing, training data\n",
    "score_test = model.evaluate(x_test, y_test, verbose=0)\n",
    "score_train = model.evaluate(x_train, y_train, verbose=0)\n",
    "\n",
    "# Get the Loss & the Accuracy of testing\n",
    "aTest = score_test[0]\n",
    "bTest = score_test[1]*100\n",
    "# Get the Loss & the Accuracy of training\n",
    "aTrain = score_train[0]\n",
    "bTrain = score_train[1]*100\n",
    "\n",
    "print(\"-\"*25)\n",
    "print(f'Test loss = {aTest:.2f}')\n",
    "print(f'Test accuracy = {bTest:.2f} %')\n",
    "\n",
    "print(\"-\"*25)\n",
    "print(f'Train loss = {aTrain:.2f}')\n",
    "print(f'Train accuracy = {bTrain:.2f} %')\n",
    "print(\"-\"*25)"
   ]
  },
  {
   "cell_type": "code",
   "execution_count": 60,
   "id": "98918dd8",
   "metadata": {
    "collapsed": true
   },
   "outputs": [
    {
     "data": {
      "text/plain": [
       "{'loss': [0.5725197792053223,\n",
       "  0.4423291087150574,\n",
       "  0.3413383662700653,\n",
       "  0.25985294580459595,\n",
       "  0.18775677680969238,\n",
       "  0.14355351030826569,\n",
       "  0.10075943917036057,\n",
       "  0.08460810035467148,\n",
       "  0.05334372818470001,\n",
       "  0.04478863626718521],\n",
       " 'accuracy': [0.7004166841506958,\n",
       "  0.8087499737739563,\n",
       "  0.8650000095367432,\n",
       "  0.8991666436195374,\n",
       "  0.9325000047683716,\n",
       "  0.9558333158493042,\n",
       "  0.9708333611488342,\n",
       "  0.9741666913032532,\n",
       "  0.98458331823349,\n",
       "  0.9870833158493042],\n",
       " 'val_loss': [0.5264689922332764,\n",
       "  0.3987582325935364,\n",
       "  0.30853986740112305,\n",
       "  0.22523026168346405,\n",
       "  0.17861922085285187,\n",
       "  0.17929783463478088,\n",
       "  0.13740310072898865,\n",
       "  0.11538433283567429,\n",
       "  0.12314622104167938,\n",
       "  0.09843694418668747],\n",
       " 'val_accuracy': [0.7266666889190674,\n",
       "  0.8166666626930237,\n",
       "  0.8450000286102295,\n",
       "  0.9233333468437195,\n",
       "  0.9433333277702332,\n",
       "  0.9516666531562805,\n",
       "  0.9583333134651184,\n",
       "  0.9633333086967468,\n",
       "  0.9649999737739563,\n",
       "  0.9683333039283752]}"
      ]
     },
     "execution_count": 60,
     "metadata": {},
     "output_type": "execute_result"
    }
   ],
   "source": [
    "adm_hist.history"
   ]
  },
  {
   "cell_type": "markdown",
   "id": "4a8e1541",
   "metadata": {},
   "source": [
    "### Loss & Accuracy Curves"
   ]
  },
  {
   "cell_type": "code",
   "execution_count": 71,
   "id": "5f05fc08",
   "metadata": {},
   "outputs": [
    {
     "data": {
      "image/png": "[encoded data removed]",
      "text/plain": [
       "<Figure size 576x288 with 1 Axes>"
      ]
     },
     "metadata": {},
     "output_type": "display_data"
    },
    {
     "data": {
      "image/png": "[encoded data removed]",
      "text/plain": [
       "<Figure size 576x288 with 1 Axes>"
      ]
     },
     "metadata": {},
     "output_type": "display_data"
    }
   ],
   "source": [
    "plt.style.use(\"seaborn-dark\")\n",
    "\n",
    "plt.figure(figsize=[8, 4])\n",
    "epoch_range = range(0, 10)\n",
    "loss = adm_hist.history['loss']\n",
    "val_loss = adm_hist.history['val_loss']\n",
    "plt.plot(epoch_range, loss, c='#3B444B', linewidth=1.5, marker=\"\")\n",
    "plt.plot(epoch_range, val_loss, c='#d95f02', linewidth=2.5, marker=\"_\")\n",
    "plt.legend(['train_loss', 'validation_loss'], fontsize=18, loc=\"best\")\n",
    "plt.xlabel(\"Epochs\", fontsize=16, color=\"#00A550\")\n",
    "plt.ylabel(\"Loss\", fontsize=16, color=\"#00A550\")\n",
    "plt.title(\"--- The Loss Curve --- \", fontsize=18, color=\"#00A693\", fontweight=\"bold\")\n",
    "plt.grid(c=\"#a0eeb1\")\n",
    "plt.figure(figsize=[8, 4])\n",
    "\n",
    "epoch_range = range(0, 10) \n",
    "\n",
    "acc = adm_hist.history['accuracy']\n",
    "val_acc = adm_hist.history['val_accuracy']\n",
    "\n",
    "plt.plot(epoch_range, acc, c='#3B444B', linewidth=1.5, marker=\"o\")\n",
    "plt.plot(epoch_range, val_acc, c='#1b9e77', linewidth=2.5, marker=\"_\")\n",
    "\n",
    "plt.legend(['train_accuracy', 'validation_accuracy'], fontsize=18, loc=\"best\")\n",
    "\n",
    "plt.xlabel(\"Epochs\", fontsize=16, c=\"#EC5800\")\n",
    "plt.ylabel(\"Accuracy\", fontsize=16, c=\"#EC5800\")\n",
    "plt.title(\"-- The accuracy Curve -- \", fontsize=18, c=\"#FF5A36\", fontweight=\"bold\")\n",
    "plt.grid(c=\"#f5c1a9\")"
   ]
  },
  {
   "cell_type": "markdown",
   "id": "fe221cde",
   "metadata": {},
   "source": [
    "### Confusion Matrix"
   ]
  },
  {
   "cell_type": "code",
   "execution_count": 40,
   "id": "9131d6f9",
   "metadata": {},
   "outputs": [],
   "source": [
    "labels_ = [\"No Tumor\", \"Tumor\"]"
   ]
  },
  {
   "cell_type": "code",
   "execution_count": 31,
   "id": "fd6e8b91",
   "metadata": {},
   "outputs": [],
   "source": [
    "y_true = tf.argmax(y_test, axis = 1)\n",
    "predicted_classes = np.argmax(model.predict(x_test), axis=-1)\n",
    "cm = confusion_matrix(y_true, predicted_classes)"
   ]
  },
  {
   "cell_type": "code",
   "execution_count": 55,
   "id": "a3096860",
   "metadata": {},
   "outputs": [
    {
     "data": {
      "text/plain": [
       "Text(0.5, 1.0, 'Confusion Matrix')"
      ]
     },
     "execution_count": 55,
     "metadata": {},
     "output_type": "execute_result"
    },
    {
     "data": {
      "image/png": "[encoded data removed]",
      "text/plain": [
       "<Figure size 576x288 with 1 Axes>"
      ]
     },
     "metadata": {
      "needs_background": "light"
     },
     "output_type": "display_data"
    }
   ],
   "source": [
    "plt.figure(figsize=(8,4))\n",
    "\n",
    "axsub=plt.subplot(111)\n",
    "\n",
    "annot_kws= {'fontsize':16, \n",
    "           'fontstyle':'italic',\n",
    "           'color':\"azure\"}\n",
    "sns.heatmap(cm,\n",
    "            linewidths=0.02,\n",
    "            color=\"pink\",\n",
    "            annot = True, \n",
    "            cbar = False, \n",
    "            cmap='Dark2_r', \n",
    "            fmt=\"d\",\n",
    "            ax=axsub,\n",
    "            annot_kws=annot_kws)\n",
    "\n",
    "plt.ylabel('Actual label',fontsize=16, c=\"#D2691E\")\n",
    "plt.xlabel('Predicted label',fontsize=16, c=\"#009F6B\")\n",
    "plt.title('Confusion Matrix',fontsize=20, c=\"#3B444B\")"
   ]
  },
  {
   "cell_type": "markdown",
   "id": "43b54c21",
   "metadata": {},
   "source": [
    "#### We have 19 wrong predictions from 600 samples, and all others are true predicted,\n",
    "#### The model is approx. 96% accurate "
   ]
  },
  {
   "cell_type": "code",
   "execution_count": null,
   "id": "75270e1d",
   "metadata": {},
   "outputs": [],
   "source": []
  }
 ],
 "metadata": {
  "kernelspec": {
   "display_name": "Python 3 (ipykernel)",
   "language": "python",
   "name": "python3"
  },
  "language_info": {
   "codemirror_mode": {
    "name": "ipython",
    "version": 3
   },
   "file_extension": ".py",
   "mimetype": "text/x-python",
   "name": "python",
   "nbconvert_exporter": "python",
   "pygments_lexer": "ipython3",
   "version": "3.8.12"
  }
 },
 "nbformat": 4,
 "nbformat_minor": 5
}
