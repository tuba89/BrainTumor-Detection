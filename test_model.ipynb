{
 "cells": [
  {
   "cell_type": "code",
   "execution_count": 5,
   "id": "2dc69320",
   "metadata": {},
   "outputs": [],
   "source": [
    "from keras.models import load_model\n",
    "from PIL import Image\n",
    "import numpy as np\n",
    "import cv2"
   ]
  },
  {
   "cell_type": "code",
   "execution_count": 21,
   "id": "15d9e47e",
   "metadata": {},
   "outputs": [],
   "source": [
    "# Load my Model of binary classification\n",
    "model_bin= load_model('BrainTumor_Adam.h5')\n",
    "# Load my Model of categorical classification\n",
    "model_cat= load_model('BrainTumor_Adam_10.h5')"
   ]
  },
  {
   "cell_type": "code",
   "execution_count": 17,
   "id": "69b82756",
   "metadata": {},
   "outputs": [],
   "source": [
    "# Load an image to test my model from pred directory\n",
    "image = cv2.imread('pred/pred43.jpg')"
   ]
  },
  {
   "cell_type": "code",
   "execution_count": 22,
   "id": "19fa0f78",
   "metadata": {},
   "outputs": [],
   "source": [
    "# apply preprocessing( same in training )\n",
    "#1- convert the image to array\n",
    "img = Image.fromarray(image)\n",
    "#2- resize it\n",
    "img = img.resize((64, 64))\n",
    "#3- resize it\n",
    "img = np.array(img)\n",
    "#4- expand the dimension\n",
    "input_image = np.expand_dims(img, axis=0)\n",
    "# print(img)\n"
   ]
  },
  {
   "cell_type": "markdown",
   "id": "7d6b70ae",
   "metadata": {},
   "source": [
    "## Predict The image based on the model"
   ]
  },
  {
   "cell_type": "code",
   "execution_count": 23,
   "id": "f9546426",
   "metadata": {},
   "outputs": [
    {
     "name": "stdout",
     "output_type": "stream",
     "text": [
      "[[0]]\n"
     ]
    }
   ],
   "source": [
    "# Binary, 0= no, 1=yes\n",
    "predict = (model_bin.predict(input_image) > 0.5).astype(\"int32\")\n",
    "print(predict) #0 = not affected by the brain tumor"
   ]
  },
  {
   "cell_type": "code",
   "execution_count": 24,
   "id": "3605287c",
   "metadata": {},
   "outputs": [
    {
     "name": "stdout",
     "output_type": "stream",
     "text": [
      "[[1 0]]\n"
     ]
    }
   ],
   "source": [
    "# categorical, [1, 0]= No, [0,1]= yes\n",
    "predict = (model_cat.predict(input_image) > 0.5).astype(\"int32\")\n",
    "print(predict) #0 = not affected by the brain tumor"
   ]
  },
  {
   "cell_type": "code",
   "execution_count": null,
   "id": "1aeca6a1",
   "metadata": {},
   "outputs": [],
   "source": []
  }
 ],
 "metadata": {
  "kernelspec": {
   "display_name": "Python 3 (ipykernel)",
   "language": "python",
   "name": "python3"
  },
  "language_info": {
   "codemirror_mode": {
    "name": "ipython",
    "version": 3
   },
   "file_extension": ".py",
   "mimetype": "text/x-python",
   "name": "python",
   "nbconvert_exporter": "python",
   "pygments_lexer": "ipython3",
   "version": "3.8.12"
  }
 },
 "nbformat": 4,
 "nbformat_minor": 5
}
