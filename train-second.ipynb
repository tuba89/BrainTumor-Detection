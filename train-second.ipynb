{
 "cells": [
  {
   "cell_type": "code",
   "execution_count": 2,
   "id": "a875cfd3",
   "metadata": {},
   "outputs": [],
   "source": [
    "# Test if i am using my GPU\n",
    "import tensorflow as tf\n",
    "print(\"Num GPUs Available: \", len(tf.config.list_physical_devices('GPU')))"
   ]
  },
  {
   "cell_type": "markdown",
   "id": "3fe34c0c",
   "metadata": {},
   "source": [
    "## Import dependecies"
   ]
  },
  {
   "cell_type": "code",
   "execution_count": 3,
   "id": "f57b8eb4",
   "metadata": {},
   "outputs": [],
   "source": [
    "# Import packages\n",
    "from keras.layers import Flatten, Activation, Dropout\n",
    "from keras.layers import Dense, Conv2D, MaxPooling2D  \n",
    "from sklearn.model_selection import train_test_split\n",
    "from tensorflow.keras.utils import normalize, to_categorical \n",
    "from sklearn.metrics import confusion_matrix\n",
    "from keras.models import Sequential\n",
    "import matplotlib.pyplot as plt\n",
    "from tensorflow import keras\n",
    "import tensorflow as tf\n",
    "from PIL import Image\n",
    "import seaborn as sns\n",
    "import numpy as np\n",
    "import cv2\n",
    "import os"
   ]
  },
  {
   "cell_type": "code",
   "execution_count": null,
   "id": "9e0a5c8d",
   "metadata": {},
   "outputs": [],
   "source": []
  },
  {
   "cell_type": "markdown",
   "id": "a41c00f6",
   "metadata": {},
   "source": [
    "## Load the dataset"
   ]
  },
  {
   "cell_type": "code",
   "execution_count": 4,
   "id": "406ca25f",
   "metadata": {},
   "outputs": [],
   "source": [
    "img_path = 'data/'\n",
    "no_tumor = os.listdir(img_path+ 'no/')\n",
    "# no_tumor\n",
    "tumor = os.listdir(img_path+ 'yes/')\n",
    "# tumor"
   ]
  },
  {
   "cell_type": "code",
   "execution_count": 5,
   "id": "df0747d8",
   "metadata": {},
   "outputs": [],
   "source": [
    "# Two Empty list of dataset & label, to create \n",
    "# independent and dependent variables\n",
    "# to label no brain tumor as (0) & brain tumor as (1)\n",
    "dataset = []\n",
    "label = []"
   ]
  },
  {
   "cell_type": "code",
   "execution_count": 6,
   "id": "ad702c54",
   "metadata": {},
   "outputs": [],
   "source": [
    "# What is the extension of our images\n",
    "# pick one image\n",
    "p = 'no1005.jpg'\n",
    "# p.split('.')[1]"
   ]
  },
  {
   "cell_type": "markdown",
   "id": "20a7c9a9",
   "metadata": {},
   "source": [
    "## Preprocessing of images"
   ]
  },
  {
   "cell_type": "code",
   "execution_count": 7,
   "id": "c37b305c",
   "metadata": {},
   "outputs": [],
   "source": [
    "for i, img_name in enumerate(no_tumor):\n",
    "    # check if our image has jpg extension\n",
    "    if(img_name.split('.')[1] == 'jpg'):\n",
    "        # read our no tumor image\n",
    "        image = cv2.imread(img_path + 'no/' + img_name)\n",
    "        \n",
    "        # convert it to rgb using PIL package\n",
    "        # opencv read the images is bgr format\n",
    "        # thus, our image is converted to array\n",
    "        image = Image.fromarray(image, \"RGB\")\n",
    "        \n",
    "        # Resize the image to 64 by 64\n",
    "        image = image.resize((64, 64))\n",
    "        \n",
    "        # add our image as array in the dataset lst\n",
    "        dataset.append(np.array(image))\n",
    "        # label it as 0 = no brain tumor\n",
    "        label.append(0)"
   ]
  },
  {
   "cell_type": "code",
   "execution_count": 8,
   "id": "ce9ec359",
   "metadata": {},
   "outputs": [],
   "source": [
    "for i, img_name in enumerate(tumor):\n",
    "    # check if our image has jpg extension\n",
    "    if(img_name.split('.')[1] == 'jpg'):\n",
    "        # read our no tumor image\n",
    "        image = cv2.imread(img_path + 'yes/' + img_name)\n",
    "        \n",
    "        # convert it to rgb using PIL package\n",
    "        # opencv read the images is bgr format\n",
    "        # thus, our image is converted to array\n",
    "        image = Image.fromarray(image, \"RGB\")\n",
    "        \n",
    "        # Resize the image to 64 by 64\n",
    "        image = image.resize((64, 64))\n",
    "        \n",
    "        # add our image as array in the dataset lst\n",
    "        dataset.append(np.array(image))\n",
    "        # label it as 1= brain tumor\n",
    "        label.append(1)"
   ]
  },
  {
   "cell_type": "code",
   "execution_count": 9,
   "id": "bce4f7a4",
   "metadata": {},
   "outputs": [
    {
     "name": "stdout",
     "output_type": "stream",
     "text": [
      "3000\n",
      "3000\n"
     ]
    },
    {
     "data": {
      "text/plain": [
       "list"
      ]
     },
     "execution_count": 9,
     "metadata": {},
     "output_type": "execute_result"
    }
   ],
   "source": [
    "print(len(dataset))\n",
    "print(len(label))\n",
    "type(dataset)"
   ]
  },
  {
   "cell_type": "code",
   "execution_count": 10,
   "id": "5ac9e8a1",
   "metadata": {},
   "outputs": [],
   "source": [
    "# convert our images values appended in lists to numpy array \n",
    "dataset = np.array(dataset)\n",
    "label = np.array(label)"
   ]
  },
  {
   "cell_type": "markdown",
   "id": "b98b0c50",
   "metadata": {},
   "source": [
    "## Splitting the Dataset to Train and Test sets"
   ]
  },
  {
   "cell_type": "code",
   "execution_count": 11,
   "id": "759d736f",
   "metadata": {},
   "outputs": [
    {
     "name": "stdout",
     "output_type": "stream",
     "text": [
      "(2400, 64, 64, 3)\n",
      "(600, 64, 64, 3)\n",
      "(2400,)\n",
      "(600,)\n"
     ]
    }
   ],
   "source": [
    "# (20% data) of testing & (80% data) of training\n",
    "x_train, x_test, y_train, y_test = train_test_split(dataset, label, \n",
    "                                                    test_size= 0.2, \n",
    "                                                    random_state=0)\n",
    "print(x_train.shape)\n",
    "print(x_test.shape)\n",
    "print(y_train.shape)\n",
    "print(y_test.shape)"
   ]
  },
  {
   "cell_type": "markdown",
   "id": "d3f0055e",
   "metadata": {},
   "source": [
    "##### For example in training set images (x train)\n",
    "#### We have: \n",
    "#### 2400 samples of images,\n",
    "##### with size (height x width) of 64x64 \n",
    "##### and rgb channel (3) colored images\n",
    "##### and each one has a label, 0 or 1 (y train)"
   ]
  },
  {
   "cell_type": "markdown",
   "id": "f644b414",
   "metadata": {},
   "source": [
    "### Normalization of values of pixels array to small values between 0 an 1"
   ]
  },
  {
   "cell_type": "code",
   "execution_count": 12,
   "id": "823869ed",
   "metadata": {},
   "outputs": [],
   "source": [
    "# Reshape = (n, image_width, image_height, n_channel)\n",
    "# Normalization of the values of our arrays\n",
    "x_train = normalize(x_train, axis=1)\n",
    "x_test = normalize(x_test, axis=1)\n",
    "\n",
    "\n",
    "# convert our label to categorical data for categorical classification\n",
    "y_train = to_categorical(y_train, num_classes=2)\n",
    "y_test = to_categorical(y_test, num_classes=2)"
   ]
  },
  {
   "cell_type": "code",
   "execution_count": null,
   "id": "2663e959",
   "metadata": {},
   "outputs": [],
   "source": []
  },
  {
   "cell_type": "markdown",
   "id": "3e9aa9e1",
   "metadata": {},
   "source": [
    "## Build the Model"
   ]
  },
  {
   "cell_type": "code",
   "execution_count": 32,
   "id": "60e0003f",
   "metadata": {},
   "outputs": [],
   "source": [
    "# Define some parameters\n",
    "INPUT_SIZE = 64"
   ]
  },
  {
   "cell_type": "code",
   "execution_count": 33,
   "id": "c91ef35c",
   "metadata": {},
   "outputs": [],
   "source": [
    "# Select the sequentiel Model\n",
    "model = Sequential()\n",
    "\n",
    "# Layer1: add convolution layer, relu activation & maxpooling\n",
    "model.add(Conv2D(filters= 32, \n",
    "                 kernel_size= (3,3),\n",
    "                 input_shape= (INPUT_SIZE, INPUT_SIZE, 3)))\n",
    "model.add(Activation(\"relu\"))\n",
    "model.add(MaxPooling2D(pool_size= (2,2)))\n",
    "\n",
    "# Layer2: add convolution layer, relu activation & maxpooling\n",
    "model.add(Conv2D(filters=32, \n",
    "                 kernel_size=(3,3),\n",
    "                 kernel_initializer= 'he_uniform'))\n",
    "model.add(Activation(\"relu\"))\n",
    "model.add(MaxPooling2D(pool_size= (2,2)))\n",
    "\n",
    "# Layer3: add convolution layer, relu activation & maxpooling\n",
    "model.add(Conv2D(filters=32, \n",
    "                 kernel_size=(3,3),\n",
    "                 kernel_initializer= 'he_uniform'))\n",
    "model.add(Activation(\"relu\"))\n",
    "model.add(MaxPooling2D(pool_size= (2,2)))\n",
    "\n",
    "# Flatten: make all images in one column vetcor\n",
    "model.add(Flatten())\n",
    "\n",
    "# add 2 dense layers\n",
    "model.add(Dense(64))\n",
    "model.add(Activation(\"relu\"))\n",
    "# off 50% of neurones\n",
    "model.add(Dropout(0.5)) \n",
    "\n",
    "# Output (categorical classification)\n",
    "model.add(Dense(2))\n",
    "model.add(Activation(\"softmax\"))"
   ]
  },
  {
   "cell_type": "markdown",
   "id": "111afdbb",
   "metadata": {},
   "source": [
    "#### Compile the Model"
   ]
  },
  {
   "cell_type": "code",
   "execution_count": 35,
   "id": "c0ba3004",
   "metadata": {},
   "outputs": [],
   "source": [
    "model.compile(loss = 'categorical_crossentropy',\n",
    "              optimizer = 'adam',\n",
    "              metrics = ['accuracy'])"
   ]
  },
  {
   "cell_type": "markdown",
   "id": "4fc18920",
   "metadata": {},
   "source": [
    "#### Fit the Model"
   ]
  },
  {
   "cell_type": "code",
   "execution_count": 36,
   "id": "9a16c933",
   "metadata": {},
   "outputs": [
    {
     "name": "stdout",
     "output_type": "stream",
     "text": [
      "Epoch 1/25\n",
      "150/150 [==============================] - 5s 25ms/step - loss: 0.5513 - accuracy: 0.7362 - val_loss: 0.4524 - val_accuracy: 0.7833\n",
      "Epoch 2/25\n",
      "150/150 [==============================] - 3s 19ms/step - loss: 0.4115 - accuracy: 0.8250 - val_loss: 0.4139 - val_accuracy: 0.8000\n",
      "Epoch 3/25\n",
      "150/150 [==============================] - 4s 27ms/step - loss: 0.3210 - accuracy: 0.8667 - val_loss: 0.2872 - val_accuracy: 0.8867\n",
      "Epoch 4/25\n",
      "150/150 [==============================] - 4s 29ms/step - loss: 0.2460 - accuracy: 0.9008 - val_loss: 0.2241 - val_accuracy: 0.9083\n",
      "Epoch 5/25\n",
      "150/150 [==============================] - 3s 23ms/step - loss: 0.1724 - accuracy: 0.9362 - val_loss: 0.1566 - val_accuracy: 0.9450\n",
      "Epoch 6/25\n",
      "150/150 [==============================] - 4s 24ms/step - loss: 0.1270 - accuracy: 0.9579 - val_loss: 0.1362 - val_accuracy: 0.9533\n",
      "Epoch 7/25\n",
      "150/150 [==============================] - 3s 17ms/step - loss: 0.1014 - accuracy: 0.9683 - val_loss: 0.1042 - val_accuracy: 0.9550\n",
      "Epoch 8/25\n",
      "150/150 [==============================] - 2s 12ms/step - loss: 0.0642 - accuracy: 0.9800 - val_loss: 0.1071 - val_accuracy: 0.9683\n",
      "Epoch 9/25\n",
      "150/150 [==============================] - 2s 13ms/step - loss: 0.0573 - accuracy: 0.9854 - val_loss: 0.1136 - val_accuracy: 0.9700\n",
      "Epoch 10/25\n",
      "150/150 [==============================] - 2s 15ms/step - loss: 0.0410 - accuracy: 0.9883 - val_loss: 0.1155 - val_accuracy: 0.9650\n",
      "Epoch 11/25\n",
      "150/150 [==============================] - 3s 19ms/step - loss: 0.0233 - accuracy: 0.9946 - val_loss: 0.0822 - val_accuracy: 0.9817\n",
      "Epoch 12/25\n",
      "150/150 [==============================] - 3s 20ms/step - loss: 0.0204 - accuracy: 0.9917 - val_loss: 0.1192 - val_accuracy: 0.9817\n",
      "Epoch 13/25\n",
      "150/150 [==============================] - 3s 21ms/step - loss: 0.0153 - accuracy: 0.9954 - val_loss: 0.1018 - val_accuracy: 0.9667\n",
      "Epoch 14/25\n",
      "150/150 [==============================] - 3s 22ms/step - loss: 0.0219 - accuracy: 0.9942 - val_loss: 0.0931 - val_accuracy: 0.9783\n",
      "Epoch 15/25\n",
      "150/150 [==============================] - 3s 17ms/step - loss: 0.0180 - accuracy: 0.9958 - val_loss: 0.1093 - val_accuracy: 0.9783\n",
      "Epoch 16/25\n",
      "150/150 [==============================] - 2s 14ms/step - loss: 0.0113 - accuracy: 0.9962 - val_loss: 0.0983 - val_accuracy: 0.9833\n",
      "Epoch 17/25\n",
      "150/150 [==============================] - 2s 14ms/step - loss: 0.0048 - accuracy: 0.9992 - val_loss: 0.1112 - val_accuracy: 0.9833\n",
      "Epoch 18/25\n",
      "150/150 [==============================] - 2s 13ms/step - loss: 0.0030 - accuracy: 0.9996 - val_loss: 0.1172 - val_accuracy: 0.9833\n",
      "Epoch 19/25\n",
      "150/150 [==============================] - 3s 20ms/step - loss: 0.0103 - accuracy: 0.9962 - val_loss: 0.1241 - val_accuracy: 0.9783\n",
      "Epoch 20/25\n",
      "150/150 [==============================] - 3s 18ms/step - loss: 0.0061 - accuracy: 0.9987 - val_loss: 0.1504 - val_accuracy: 0.9817\n",
      "Epoch 21/25\n",
      "150/150 [==============================] - 2s 15ms/step - loss: 0.0189 - accuracy: 0.9921 - val_loss: 0.1045 - val_accuracy: 0.9783\n",
      "Epoch 22/25\n",
      "150/150 [==============================] - 3s 19ms/step - loss: 0.0024 - accuracy: 1.0000 - val_loss: 0.1184 - val_accuracy: 0.9817\n",
      "Epoch 23/25\n",
      "150/150 [==============================] - 4s 28ms/step - loss: 6.9021e-04 - accuracy: 1.0000 - val_loss: 0.1165 - val_accuracy: 0.9800\n",
      "Epoch 24/25\n",
      "150/150 [==============================] - 4s 25ms/step - loss: 0.0018 - accuracy: 0.9996 - val_loss: 0.1080 - val_accuracy: 0.9783\n",
      "Epoch 25/25\n",
      "150/150 [==============================] - 4s 23ms/step - loss: 4.4928e-04 - accuracy: 1.0000 - val_loss: 0.1201 - val_accuracy: 0.9783\n"
     ]
    }
   ],
   "source": [
    "adm_hist = model.fit(x_train, y_train,\n",
    "                   batch_size= 16,\n",
    "                   verbose= 1,\n",
    "                   epochs= 25,\n",
    "                   validation_data= (x_test, y_test),\n",
    "                   shuffle= False)"
   ]
  },
  {
   "cell_type": "markdown",
   "id": "81ff1ac4",
   "metadata": {},
   "source": [
    "#### Save the Model"
   ]
  },
  {
   "cell_type": "code",
   "execution_count": 37,
   "id": "b5023dc4",
   "metadata": {},
   "outputs": [],
   "source": [
    "model.save('BrainTumor_Adam_10.h5')"
   ]
  },
  {
   "cell_type": "markdown",
   "id": "45ae652d",
   "metadata": {},
   "source": [
    "#### Evaluate the Model"
   ]
  },
  {
   "cell_type": "code",
   "execution_count": 38,
   "id": "ed7f4025",
   "metadata": {},
   "outputs": [
    {
     "name": "stdout",
     "output_type": "stream",
     "text": [
      "-------------------------\n",
      "Test loss = 0.12\n",
      "Test accuracy = 97.83 %\n",
      "-------------------------\n",
      "Train loss = 0.00\n",
      "Train accuracy = 100.00 %\n",
      "-------------------------\n"
     ]
    }
   ],
   "source": [
    "# Calculate the evaluation of the model of testing, training data\n",
    "score_test = model.evaluate(x_test, y_test, verbose=0)\n",
    "score_train = model.evaluate(x_train, y_train, verbose=0)\n",
    "\n",
    "# Get the Loss & the Accuracy of testing\n",
    "aTest = score_test[0]\n",
    "bTest = score_test[1]*100\n",
    "# Get the Loss & the Accuracy of training\n",
    "aTrain = score_train[0]\n",
    "bTrain = score_train[1]*100\n",
    "\n",
    "print(\"-\"*25)\n",
    "print(f'Test loss = {aTest:.2f}')\n",
    "print(f'Test accuracy = {bTest:.2f} %')\n",
    "\n",
    "print(\"-\"*25)\n",
    "print(f'Train loss = {aTrain:.2f}')\n",
    "print(f'Train accuracy = {bTrain:.2f} %')\n",
    "print(\"-\"*25)"
   ]
  },
  {
   "cell_type": "code",
   "execution_count": 39,
   "id": "98918dd8",
   "metadata": {},
   "outputs": [
    {
     "data": {
      "text/plain": [
       "{'loss': [0.5512534379959106,\n",
       "  0.41147831082344055,\n",
       "  0.3210214078426361,\n",
       "  0.2460060864686966,\n",
       "  0.17236801981925964,\n",
       "  0.12695203721523285,\n",
       "  0.10140357166528702,\n",
       "  0.06415712088346481,\n",
       "  0.057312723249197006,\n",
       "  0.04096532240509987,\n",
       "  0.023347534239292145,\n",
       "  0.020406192168593407,\n",
       "  0.015310554765164852,\n",
       "  0.021903228014707565,\n",
       "  0.017982706427574158,\n",
       "  0.011269927956163883,\n",
       "  0.004821618553251028,\n",
       "  0.0030427472665905952,\n",
       "  0.010330566205084324,\n",
       "  0.006078379228711128,\n",
       "  0.018872259184718132,\n",
       "  0.0024334280751645565,\n",
       "  0.0006902142195031047,\n",
       "  0.001805806183256209,\n",
       "  0.0004492833686526865],\n",
       " 'accuracy': [0.7362499833106995,\n",
       "  0.824999988079071,\n",
       "  0.8666666746139526,\n",
       "  0.9008333086967468,\n",
       "  0.9362499713897705,\n",
       "  0.9579166769981384,\n",
       "  0.9683333039283752,\n",
       "  0.9800000190734863,\n",
       "  0.9854166507720947,\n",
       "  0.9883333444595337,\n",
       "  0.9945833086967468,\n",
       "  0.9916666746139526,\n",
       "  0.9954166412353516,\n",
       "  0.9941666722297668,\n",
       "  0.9958333373069763,\n",
       "  0.9962499737739563,\n",
       "  0.9991666674613953,\n",
       "  0.9995833039283752,\n",
       "  0.9962499737739563,\n",
       "  0.9987499713897705,\n",
       "  0.9920833110809326,\n",
       "  1.0,\n",
       "  1.0,\n",
       "  0.9995833039283752,\n",
       "  1.0],\n",
       " 'val_loss': [0.4523896872997284,\n",
       "  0.41388726234436035,\n",
       "  0.28721481561660767,\n",
       "  0.22405008971691132,\n",
       "  0.15664367377758026,\n",
       "  0.13616672158241272,\n",
       "  0.10416603833436966,\n",
       "  0.10706304013729095,\n",
       "  0.11361563205718994,\n",
       "  0.11546464264392853,\n",
       "  0.08221728354692459,\n",
       "  0.11917256563901901,\n",
       "  0.10178720206022263,\n",
       "  0.09312938898801804,\n",
       "  0.10933668911457062,\n",
       "  0.0983138382434845,\n",
       "  0.11120764166116714,\n",
       "  0.11724723875522614,\n",
       "  0.12405484169721603,\n",
       "  0.15041491389274597,\n",
       "  0.10453137010335922,\n",
       "  0.11838022619485855,\n",
       "  0.11653286218643188,\n",
       "  0.10802675783634186,\n",
       "  0.12013406306505203],\n",
       " 'val_accuracy': [0.7833333611488342,\n",
       "  0.800000011920929,\n",
       "  0.8866666555404663,\n",
       "  0.9083333611488342,\n",
       "  0.9449999928474426,\n",
       "  0.95333331823349,\n",
       "  0.9549999833106995,\n",
       "  0.9683333039283752,\n",
       "  0.9700000286102295,\n",
       "  0.9649999737739563,\n",
       "  0.9816666841506958,\n",
       "  0.9816666841506958,\n",
       "  0.9666666388511658,\n",
       "  0.9783333539962769,\n",
       "  0.9783333539962769,\n",
       "  0.9833333492279053,\n",
       "  0.9833333492279053,\n",
       "  0.9833333492279053,\n",
       "  0.9783333539962769,\n",
       "  0.9816666841506958,\n",
       "  0.9783333539962769,\n",
       "  0.9816666841506958,\n",
       "  0.9800000190734863,\n",
       "  0.9783333539962769,\n",
       "  0.9783333539962769]}"
      ]
     },
     "execution_count": 39,
     "metadata": {},
     "output_type": "execute_result"
    }
   ],
   "source": [
    "adm_hist.history"
   ]
  },
  {
   "cell_type": "markdown",
   "id": "4a8e1541",
   "metadata": {},
   "source": [
    "### Loss & Accuracy Curves"
   ]
  },
  {
   "cell_type": "code",
   "execution_count": 40,
   "id": "5f05fc08",
   "metadata": {},
   "outputs": [
    {
     "data": {
      "image/png": "[encoded data removed]",
      "text/plain": [
       "<Figure size 576x288 with 1 Axes>"
      ]
     },
     "metadata": {},
     "output_type": "display_data"
    },
    {
     "data": {
      "image/png": "[encoded data removed]",
      "text/plain": [
       "<Figure size 576x288 with 1 Axes>"
      ]
     },
     "metadata": {},
     "output_type": "display_data"
    }
   ],
   "source": [
    "plt.style.use(\"seaborn-dark\")\n",
    "\n",
    "plt.figure(figsize=[8, 4])\n",
    "epoch_range = range(0, 25)\n",
    "loss = adm_hist.history['loss']\n",
    "val_loss = adm_hist.history['val_loss']\n",
    "plt.plot(epoch_range, loss, c='#3B444B', linewidth=1.5, marker=\"\")\n",
    "plt.plot(epoch_range, val_loss, c='#d95f02', linewidth=2.5, marker=\"_\")\n",
    "plt.legend(['train_loss', 'validation_loss'], fontsize=18, loc=\"best\")\n",
    "plt.xlabel(\"Epochs\", fontsize=16, color=\"#00A550\")\n",
    "plt.ylabel(\"Loss\", fontsize=16, color=\"#00A550\")\n",
    "plt.title(\"--- The Loss Curve --- \", fontsize=18, color=\"#00A693\", fontweight=\"bold\")\n",
    "plt.grid(c=\"#a0eeb1\")\n",
    "plt.figure(figsize=[8, 4])\n",
    "\n",
    "epoch_range = range(0, 25) \n",
    "\n",
    "acc = adm_hist.history['accuracy']\n",
    "val_acc = adm_hist.history['val_accuracy']\n",
    "\n",
    "plt.plot(epoch_range, acc, c='#3B444B', linewidth=1.5, marker=\"o\")\n",
    "plt.plot(epoch_range, val_acc, c='#1b9e77', linewidth=2.5, marker=\"_\")\n",
    "\n",
    "plt.legend(['train_accuracy', 'validation_accuracy'], fontsize=18, loc=\"best\")\n",
    "\n",
    "plt.xlabel(\"Epochs\", fontsize=16, c=\"#EC5800\")\n",
    "plt.ylabel(\"Accuracy\", fontsize=16, c=\"#EC5800\")\n",
    "plt.title(\"-- The accuracy Curve -- \", fontsize=18, c=\"#FF5A36\", fontweight=\"bold\")\n",
    "plt.grid(c=\"#f5c1a9\")"
   ]
  },
  {
   "cell_type": "markdown",
   "id": "fe221cde",
   "metadata": {},
   "source": [
    "### Confusion Matrix"
   ]
  },
  {
   "cell_type": "code",
   "execution_count": 41,
   "id": "9131d6f9",
   "metadata": {},
   "outputs": [],
   "source": [
    "labels_ = [\"No Tumor\", \"Tumor\"]"
   ]
  },
  {
   "cell_type": "code",
   "execution_count": 42,
   "id": "fd6e8b91",
   "metadata": {},
   "outputs": [],
   "source": [
    "y_true = tf.argmax(y_test, axis = 1)\n",
    "predicted_classes = np.argmax(model.predict(x_test), axis=-1)\n",
    "cm = confusion_matrix(y_true, predicted_classes)"
   ]
  },
  {
   "cell_type": "code",
   "execution_count": 43,
   "id": "a3096860",
   "metadata": {},
   "outputs": [
    {
     "data": {
      "text/plain": [
       "Text(0.5, 1.0, 'Confusion Matrix')"
      ]
     },
     "execution_count": 43,
     "metadata": {},
     "output_type": "execute_result"
    },
    {
     "data": {
      "image/png": "[encoded data removed]",
      "text/plain": [
       "<Figure size 576x288 with 1 Axes>"
      ]
     },
     "metadata": {},
     "output_type": "display_data"
    }
   ],
   "source": [
    "plt.figure(figsize=(8,4))\n",
    "\n",
    "axsub=plt.subplot(111)\n",
    "\n",
    "annot_kws= {'fontsize':16, \n",
    "           'fontstyle':'italic',\n",
    "           'color':\"azure\"}\n",
    "sns.heatmap(cm,\n",
    "            linewidths=0.02,\n",
    "            color=\"pink\",\n",
    "            annot = True, \n",
    "            cbar = False, \n",
    "            cmap='Dark2_r', \n",
    "            fmt=\"d\",\n",
    "            ax=axsub,\n",
    "            annot_kws=annot_kws)\n",
    "\n",
    "\n"
   ]
  },
  {
   "cell_type": "markdown",
   "id": "43b54c21",
   "metadata": {},
   "source": [
    "#### We have $13$ wrong predictions from $600$ samples, and all the others are predicted true.\n",
    "#### The model is approx. $97$ %  accurate "
   ]
  },
  {
   "cell_type": "code",
   "execution_count": 79,
   "id": "df52b344",
   "metadata": {},
   "outputs": [
    {
     "data": {
      "image/png": "[encoded data removed]",
      "text/plain": [
       "<Figure size 576x432 with 1 Axes>"
      ]
     },
     "metadata": {},
     "output_type": "display_data"
    }
   ],
   "source": [
    "\n",
    "annot_kws={'fontsize':16, \n",
    "           'fontstyle':'italic'}\n",
    "\n",
    "fig, ax = plt.subplots(figsize=(8,6))\n",
    "sns.heatmap(cm,\n",
    "            linewidths=0.07,\n",
    "            annot = True, \n",
    "            cbar = False, \n",
    "            cmap='Dark2_r', \n",
    "            fmt=\"d\", \n",
    "            ax=ax,\n",
    "            annot_kws=annot_kws)\n",
    "ax.xaxis.set_ticklabels(labels_, fontsize=15, c=\"#7570B3\", fontweight=\"bold\")\n",
    "ax.yaxis.set_ticklabels(labels_, fontsize=15, c=\"#009F6B\", fontweight=\"bold\")\n",
    "\n",
    "plt.ylabel('Actual label',fontsize=16, c=\"#666666\")\n",
    "plt.xlabel('Predicted label',fontsize=16, c=\"#666666\")\n",
    "plt.title('Confusion Matrix',fontsize=20, c=\"#3B444B\")\n",
    "plt.show()"
   ]
  },
  {
   "cell_type": "markdown",
   "id": "93cc9879",
   "metadata": {},
   "source": [
    "### Classification Report"
   ]
  },
  {
   "cell_type": "code",
   "execution_count": 59,
   "id": "827eb96c",
   "metadata": {},
   "outputs": [],
   "source": [
    "import pandas as pd"
   ]
  },
  {
   "cell_type": "code",
   "execution_count": 92,
   "id": "f18eadf9",
   "metadata": {},
   "outputs": [
    {
     "data": {
      "text/html": [
       "<style type=\"text/css\">\n",
       "#T_bfd40_row0_col0, #T_bfd40_row0_col2, #T_bfd40_row1_col1 {\n",
       "  background-color: #cccccc;\n",
       "  color: #000000;\n",
       "}\n",
       "#T_bfd40_row0_col1, #T_bfd40_row1_col0, #T_bfd40_row1_col2 {\n",
       "  background-color: #b3e2cd;\n",
       "  color: #000000;\n",
       "}\n",
       "</style>\n",
       "<table id=\"T_bfd40\">\n",
       "  <thead>\n",
       "    <tr>\n",
       "      <th class=\"blank level0\" >&nbsp;</th>\n",
       "      <th id=\"T_bfd40_level0_col0\" class=\"col_heading level0 col0\" >precision</th>\n",
       "      <th id=\"T_bfd40_level0_col1\" class=\"col_heading level0 col1\" >recall</th>\n",
       "      <th id=\"T_bfd40_level0_col2\" class=\"col_heading level0 col2\" >f1-score</th>\n",
       "      <th id=\"T_bfd40_level0_col3\" class=\"col_heading level0 col3\" >support</th>\n",
       "    </tr>\n",
       "  </thead>\n",
       "  <tbody>\n",
       "    <tr>\n",
       "      <th id=\"T_bfd40_level0_row0\" class=\"row_heading level0 row0\" >0</th>\n",
       "      <td id=\"T_bfd40_row0_col0\" class=\"data row0 col0\" >0.985294</td>\n",
       "      <td id=\"T_bfd40_row0_col1\" class=\"data row0 col1\" >0.976676</td>\n",
       "      <td id=\"T_bfd40_row0_col2\" class=\"data row0 col2\" >0.980966</td>\n",
       "      <td id=\"T_bfd40_row0_col3\" class=\"data row0 col3\" >343</td>\n",
       "    </tr>\n",
       "    <tr>\n",
       "      <th id=\"T_bfd40_level0_row1\" class=\"row_heading level0 row1\" >1</th>\n",
       "      <td id=\"T_bfd40_row1_col0\" class=\"data row1 col0\" >0.969231</td>\n",
       "      <td id=\"T_bfd40_row1_col1\" class=\"data row1 col1\" >0.980545</td>\n",
       "      <td id=\"T_bfd40_row1_col2\" class=\"data row1 col2\" >0.974855</td>\n",
       "      <td id=\"T_bfd40_row1_col3\" class=\"data row1 col3\" >257</td>\n",
       "    </tr>\n",
       "    <tr>\n",
       "      <th id=\"T_bfd40_level0_row2\" class=\"row_heading level0 row2\" >accuracy</th>\n",
       "      <td id=\"T_bfd40_row2_col0\" class=\"data row2 col0\" >0.978333</td>\n",
       "      <td id=\"T_bfd40_row2_col1\" class=\"data row2 col1\" >0.978333</td>\n",
       "      <td id=\"T_bfd40_row2_col2\" class=\"data row2 col2\" >0.978333</td>\n",
       "      <td id=\"T_bfd40_row2_col3\" class=\"data row2 col3\" >0</td>\n",
       "    </tr>\n",
       "    <tr>\n",
       "      <th id=\"T_bfd40_level0_row3\" class=\"row_heading level0 row3\" >macro avg</th>\n",
       "      <td id=\"T_bfd40_row3_col0\" class=\"data row3 col0\" >0.977262</td>\n",
       "      <td id=\"T_bfd40_row3_col1\" class=\"data row3 col1\" >0.978611</td>\n",
       "      <td id=\"T_bfd40_row3_col2\" class=\"data row3 col2\" >0.977911</td>\n",
       "      <td id=\"T_bfd40_row3_col3\" class=\"data row3 col3\" >600</td>\n",
       "    </tr>\n",
       "    <tr>\n",
       "      <th id=\"T_bfd40_level0_row4\" class=\"row_heading level0 row4\" >weighted avg</th>\n",
       "      <td id=\"T_bfd40_row4_col0\" class=\"data row4 col0\" >0.978414</td>\n",
       "      <td id=\"T_bfd40_row4_col1\" class=\"data row4 col1\" >0.978333</td>\n",
       "      <td id=\"T_bfd40_row4_col2\" class=\"data row4 col2\" >0.978349</td>\n",
       "      <td id=\"T_bfd40_row4_col3\" class=\"data row4 col3\" >600</td>\n",
       "    </tr>\n",
       "  </tbody>\n",
       "</table>\n"
      ],
      "text/plain": [
       "<pandas.io.formats.style.Styler at 0x1d8546ce070>"
      ]
     },
     "execution_count": 92,
     "metadata": {},
     "output_type": "execute_result"
    }
   ],
   "source": [
    "df = pd.DataFrame(classification_report(y_true, \n",
    "                                        predicted_classes, digits=2,\n",
    "                                        output_dict=True)).T\n",
    "\n",
    "df['support'] = df.support.apply(int)\n",
    "\n",
    "df.style.background_gradient(cmap='Pastel2',\n",
    "                             subset=pd.IndexSlice['0':'9', :'f1-score'])"
   ]
  },
  {
   "cell_type": "markdown",
   "id": "2c2a0542",
   "metadata": {},
   "source": [
    "### Calculate other metrics of performance"
   ]
  },
  {
   "cell_type": "code",
   "execution_count": 56,
   "id": "2cb6a859",
   "metadata": {},
   "outputs": [
    {
     "name": "stdout",
     "output_type": "stream",
     "text": [
      "Accuracy_score:\t\t97.83 %\n",
      "F1_Score:  \t\t97.49 %\n",
      "Precision_score: \t96.92 %\n",
      "Recall_score:  \t\t98.05 %\n"
     ]
    }
   ],
   "source": [
    "from sklearn.metrics import classification_report\n",
    "from sklearn.metrics import accuracy_score, f1_score, precision_score, recall_score\n",
    "\n",
    "\n",
    "accuracy = accuracy_score(y_true, predicted_classes)*100\n",
    "f1 = f1_score(y_true, predicted_classes)*100\n",
    "precision = precision_score(y_true, predicted_classes)*100\n",
    "recall = recall_score(y_true, predicted_classes)*100\n",
    "\n",
    "\n",
    "print(f'Accuracy_score:\\t\\t{accuracy:.2f} %')\n",
    "print(f'F1_Score:  \\t\\t{f1:.2f} %')\n",
    "print(f'Precision_score: \\t{precision:.2f} %')\n",
    "print(f'Recall_score:  \\t\\t{recall:.2f} %')\n"
   ]
  },
  {
   "cell_type": "code",
   "execution_count": null,
   "id": "f88a80c6",
   "metadata": {},
   "outputs": [],
   "source": []
  },
  {
   "cell_type": "code",
   "execution_count": 93,
   "id": "b0c12e0c",
   "metadata": {},
   "outputs": [
    {
     "name": "stdout",
     "output_type": "stream",
     "text": [
      "precision: [0.98529412 0.96923077]\n",
      "recall: [0.97667638 0.98054475]\n",
      "fscore: [0.98096633 0.97485493]\n",
      "support: [343 257]\n"
     ]
    }
   ],
   "source": [
    "from sklearn.metrics import precision_recall_fscore_support as score\n",
    "precision, recall, fscore, support = score(y_true, predicted_classes)\n",
    "\n",
    "print('precision: {}'.format(precision))\n",
    "print('recall: {}'.format(recall))\n",
    "print('fscore: {}'.format(fscore))\n",
    "print('support: {}'.format(support))\n",
    "\n"
   ]
  },
  {
   "cell_type": "markdown",
   "id": "8e6eb7da",
   "metadata": {},
   "source": [
    "\n",
    "| ***Label***               | ***Precision*** | ***Recall*** | ***FScore*** | \n",
    "|---------------------------|-----------------|--------------|--------------|\n",
    "| 0 **(No Tumor)**          | 98%             | 97%          | 98 %         | \n",
    "| 1 **(Tumor)**             | 96%             | 98%          | 97 %         | \n",
    " "
   ]
  },
  {
   "cell_type": "markdown",
   "id": "8994755f",
   "metadata": {},
   "source": [
    "### Some notes"
   ]
  },
  {
   "cell_type": "markdown",
   "id": "306b77c5",
   "metadata": {},
   "source": [
    "1. **The Accuracy** = $97.83$%:\n",
    "\n",
    "    The accuracy is a ratio of correctly predicted observation to the total observations,\n",
    "    The model is approx.98% accurate which is the best.\n",
    "\n",
    "2. **Precision** = $96.92$%:\n",
    "\n",
    "    Precision is the ratio of correctly predicted positive observations to the total predicted positive observations.\n",
    "    we've got High precision which means we have low false positive rate and we have got approx. 97%, we have just 8 samples with wrong predictio as false positive which means, it was class 1 and it predict as 0, \n",
    "    it is dangerous for patients, i wich i had 0 wrong predictions, but it is a pretty good result for a deep learning model.\n",
    "    \n",
    "3. **Recall** = $98.05$%:\n",
    "\n",
    "    Recall is the ratio of correctly predicted positive observations to the all observations in actual class - Tumor.\n",
    "    Of all the labels that truly contains tumor, how many did we label ? We have got recall of 0.98 which is good for this model as it’s above 0.5. and this is very good prediction.\n",
    "    \n",
    "    \n",
    "4. **F1 score** = $97.49$%:\n",
    "\n",
    "    This score takes both false positives and false negatives into account. .\n",
    "    F1 is usually more useful than accuracy, especially if you have an uneven class distribution.\n",
    "    but in our model there is not much difference between false positive and false negative,\n",
    "    that's why with only the accuracy we've got best result.\n",
    "    we have in our case f1 score approx. 97% it is also the best.\n"
   ]
  },
  {
   "cell_type": "code",
   "execution_count": null,
   "id": "280b5918",
   "metadata": {},
   "outputs": [],
   "source": []
  }
 ],
 "metadata": {
  "kernelspec": {
   "display_name": "Python 3 (ipykernel)",
   "language": "python",
   "name": "python3"
  },
  "language_info": {
   "codemirror_mode": {
    "name": "ipython",
    "version": 3
   },
   "file_extension": ".py",
   "mimetype": "text/x-python",
   "name": "python",
   "nbconvert_exporter": "python",
   "pygments_lexer": "ipython3",
   "version": "3.8.12"
  }
 },
 "nbformat": 4,
 "nbformat_minor": 5
}
